{
 "cells": [
  {
   "cell_type": "code",
   "execution_count": 1,
   "id": "a21ea158-6950-4e53-9b6c-cef6a654cfbd",
   "metadata": {},
   "outputs": [],
   "source": [
    "import torch\n",
    "from pytorch_pretrained_bert import BertTokenizer"
   ]
  },
  {
   "cell_type": "code",
   "execution_count": 2,
   "id": "cf9db073-6f7a-48e8-9bb2-5390860820b1",
   "metadata": {},
   "outputs": [],
   "source": [
    "# loading pretrained BERT tokenizer\n",
    "\n",
    "tokenizer = BertTokenizer.from_pretrained('bert-base-uncased')"
   ]
  },
  {
   "cell_type": "markdown",
   "id": "b7a9d4bc",
   "metadata": {},
   "source": [
    "# Inspect BERT Vocab"
   ]
  },
  {
   "cell_type": "markdown",
   "id": "eb767d3d",
   "metadata": {},
   "source": [
    "## Dump Vocab"
   ]
  },
  {
   "cell_type": "code",
   "execution_count": 3,
   "id": "e30c503d-f252-47f5-8b90-9e77bd58e224",
   "metadata": {},
   "outputs": [],
   "source": [
    "with open('vocabulary.txt','w') as f:\n",
    "    \n",
    "    for token in tokenizer.vocab.keys():\n",
    "        f.write(token+'\\n')"
   ]
  },
  {
   "cell_type": "markdown",
   "id": "83f4e6f8",
   "metadata": {
    "tags": [
     "parameters"
    ]
   },
   "source": [
    "From perusing the vocab, I'm seeing that:\n",
    "\n",
    "* The first 999 tokens (1-indexed) appear to be reserved, and most are of the form [unused957].\n",
    "    * 1   - [PAD]\n",
    "    * 101 - [UNK]\n",
    "    * 102 - [CLS]\n",
    "    * 103 - [SEP]\n",
    "    * 104 - [MASK]\n",
    "* Rows 1000-1996 appear to be a dump of individual characters. \n",
    "    * They don't appear to be sorted by frequency (e.g., the letters of the alphabet are all in sequence).\n",
    "* The first word is \"the\" at position 1997.\n",
    "    * From there, the words appear to be sorted by frequency. \n",
    "    * The top ~18 words are whole words, and then number 2016 is ##s, presumably the most common subword.\n",
    "    * The last whole word is at 29612, \"necessitated\"\n",
    "\n",
    "Some funny inclusions:\n",
    "* starbucks\n",
    "* triassic\n",
    "* abolitionist\n",
    "* 1679"
   ]
  },
  {
   "cell_type": "code",
   "execution_count": 13,
   "id": "dde71c93",
   "metadata": {},
   "outputs": [
    {
     "data": {
      "text/plain": [
       "['[unused89]',\n",
       " '[unused90]',\n",
       " '[unused91]',\n",
       " '[unused92]',\n",
       " '[unused93]',\n",
       " '[unused94]',\n",
       " '[unused95]',\n",
       " '[unused96]',\n",
       " '[unused97]',\n",
       " '[unused98]',\n",
       " '[UNK]',\n",
       " '[CLS]',\n",
       " '[SEP]',\n",
       " '[MASK]',\n",
       " '[unused99]',\n",
       " '[unused100]',\n",
       " '[unused101]',\n",
       " '[unused102]']"
      ]
     },
     "execution_count": 13,
     "metadata": {},
     "output_type": "execute_result"
    }
   ],
   "source": [
    "list(tokenizer.vocab.keys())[90:108]"
   ]
  },
  {
   "cell_type": "code",
   "execution_count": 14,
   "id": "0f42911d",
   "metadata": {},
   "outputs": [],
   "source": [
    "# [UNK] is present because not every unicode character is included in the vocabulary\n",
    "# [CLS] [SEP] [MASK] are specific to BERT architecture, discussed later while discussing input"
   ]
  },
  {
   "cell_type": "code",
   "execution_count": 15,
   "id": "6f31f618",
   "metadata": {},
   "outputs": [
    {
     "data": {
      "text/plain": [
       "['[unused985]',\n",
       " '[unused986]',\n",
       " '[unused987]',\n",
       " '[unused988]',\n",
       " '[unused989]',\n",
       " '[unused990]',\n",
       " '[unused991]',\n",
       " '[unused992]',\n",
       " '[unused993]',\n",
       " '!',\n",
       " '\"',\n",
       " '#',\n",
       " '$',\n",
       " '%',\n",
       " '&',\n",
       " \"'\",\n",
       " '(',\n",
       " ')',\n",
       " '*',\n",
       " '+',\n",
       " ',',\n",
       " '-',\n",
       " '.',\n",
       " '/',\n",
       " '0',\n",
       " '1',\n",
       " '2',\n",
       " '3',\n",
       " '4',\n",
       " '5']"
      ]
     },
     "execution_count": 15,
     "metadata": {},
     "output_type": "execute_result"
    }
   ],
   "source": [
    "list(tokenizer.vocab.keys())[990:1020]"
   ]
  },
  {
   "cell_type": "code",
   "execution_count": null,
   "id": "12eb4bf9",
   "metadata": {},
   "outputs": [
    {
     "data": {
      "text/plain": [
       "['－', '．', '／', '：', '？', '～', 'the', 'of', 'and', 'in']"
      ]
     },
     "execution_count": 16,
     "metadata": {},
     "output_type": "execute_result"
    }
   ],
   "source": [
    "list(tokenizer.vocab.keys())[1990:2000]\n",
    "# seems like sorted by frequency since 'the' is a very common word"
   ]
  },
  {
   "cell_type": "code",
   "execution_count": 27,
   "id": "fa54bebb",
   "metadata": {},
   "outputs": [
    {
     "data": {
      "text/plain": [
       "['gunners',\n",
       " '##jhl',\n",
       " '##zko',\n",
       " 'agile',\n",
       " 'hysteria',\n",
       " '##lten',\n",
       " '##rcus',\n",
       " 'bukit',\n",
       " 'champs',\n",
       " 'chevy',\n",
       " 'cuckoo',\n",
       " 'leith',\n",
       " 'sadler',\n",
       " 'theologians',\n",
       " 'welded',\n",
       " '##section',\n",
       " '1663',\n",
       " 'jj',\n",
       " 'plurality',\n",
       " 'xander',\n",
       " '##rooms',\n",
       " '##formed',\n",
       " 'shredded',\n",
       " 'temps',\n",
       " 'intimately',\n",
       " 'pau',\n",
       " 'tormented',\n",
       " '##lok',\n",
       " '##stellar',\n",
       " '1618',\n",
       " 'charred',\n",
       " 'ems',\n",
       " 'essen',\n",
       " '##mmel',\n",
       " 'alarms',\n",
       " 'spraying',\n",
       " 'ascot',\n",
       " 'blooms',\n",
       " 'twinkle',\n",
       " '##abia',\n",
       " '##apes',\n",
       " 'internment',\n",
       " 'obsidian',\n",
       " '##chaft',\n",
       " 'snoop',\n",
       " '##dav',\n",
       " '##ooping',\n",
       " 'malibu',\n",
       " '##tension',\n",
       " 'quiver',\n",
       " '##itia',\n",
       " 'hays',\n",
       " 'mcintosh',\n",
       " 'travers',\n",
       " 'walsall',\n",
       " '##ffie',\n",
       " '1623',\n",
       " 'beverley',\n",
       " 'schwarz',\n",
       " 'plunging',\n",
       " 'structurally',\n",
       " 'm3',\n",
       " 'rosenthal',\n",
       " 'vikram',\n",
       " '##tsk',\n",
       " '770',\n",
       " 'ghz',\n",
       " '##onda',\n",
       " '##tiv',\n",
       " 'chalmers',\n",
       " 'groningen',\n",
       " 'pew',\n",
       " 'reckon',\n",
       " 'unicef',\n",
       " '##rvis',\n",
       " '55th',\n",
       " '##gni',\n",
       " '1651',\n",
       " 'sulawesi',\n",
       " 'avila',\n",
       " 'cai',\n",
       " 'metaphysical',\n",
       " 'screwing',\n",
       " 'turbulence',\n",
       " '##mberg',\n",
       " 'augusto',\n",
       " 'samba',\n",
       " '56th',\n",
       " 'baffled',\n",
       " 'momentary',\n",
       " 'toxin',\n",
       " '##urian',\n",
       " '##wani',\n",
       " 'aachen',\n",
       " 'condoms',\n",
       " 'dali',\n",
       " 'steppe',\n",
       " '##3d',\n",
       " '##app',\n",
       " '##oed',\n",
       " '##year',\n",
       " 'adolescence',\n",
       " 'dauphin',\n",
       " 'electrically',\n",
       " 'inaccessible',\n",
       " 'microscopy',\n",
       " 'nikita',\n",
       " '##ega',\n",
       " 'atv',\n",
       " '##cel',\n",
       " '##enter',\n",
       " '##oles',\n",
       " '##oteric',\n",
       " '##ы',\n",
       " 'accountants',\n",
       " 'punishments',\n",
       " 'wrongly',\n",
       " 'bribes',\n",
       " 'adventurous',\n",
       " 'clinch',\n",
       " 'flinders',\n",
       " 'southland',\n",
       " '##hem',\n",
       " '##kata',\n",
       " 'gough',\n",
       " '##ciency',\n",
       " 'lads',\n",
       " 'soared',\n",
       " '##ה',\n",
       " 'undergoes',\n",
       " 'deformation',\n",
       " 'outlawed',\n",
       " 'rubbish',\n",
       " '##arus',\n",
       " '##mussen',\n",
       " '##nidae',\n",
       " '##rzburg',\n",
       " 'arcs',\n",
       " '##ingdon',\n",
       " '##tituted',\n",
       " '1695',\n",
       " 'wheelbase',\n",
       " 'wheeling',\n",
       " 'bombardier',\n",
       " 'campground',\n",
       " 'zebra',\n",
       " '##lices',\n",
       " '##oj',\n",
       " '##bain',\n",
       " 'lullaby',\n",
       " '##ecure',\n",
       " 'donetsk',\n",
       " 'wylie',\n",
       " 'grenada',\n",
       " '##arding',\n",
       " '##ης',\n",
       " 'squinting',\n",
       " 'eireann',\n",
       " 'opposes',\n",
       " '##andra',\n",
       " 'maximal',\n",
       " 'runes',\n",
       " '##broken',\n",
       " '##cuting',\n",
       " '##iface',\n",
       " '##ror',\n",
       " '##rosis',\n",
       " 'additive',\n",
       " 'britney',\n",
       " 'adultery',\n",
       " 'triggering',\n",
       " '##drome',\n",
       " 'detrimental',\n",
       " 'aarhus',\n",
       " 'containment',\n",
       " 'jc',\n",
       " 'swapped',\n",
       " 'vichy',\n",
       " '##ioms',\n",
       " 'madly',\n",
       " '##oric',\n",
       " '##rag',\n",
       " 'brant',\n",
       " '##ckey',\n",
       " '##trix',\n",
       " '1560',\n",
       " '1612',\n",
       " 'broughton',\n",
       " 'rustling',\n",
       " '##stems',\n",
       " '##uder',\n",
       " 'asbestos',\n",
       " 'mentoring',\n",
       " '##nivorous',\n",
       " 'finley',\n",
       " 'leaps',\n",
       " '##isan',\n",
       " 'apical',\n",
       " 'pry',\n",
       " 'slits',\n",
       " 'substitutes',\n",
       " '##dict',\n",
       " 'intuitive',\n",
       " 'fantasia',\n",
       " 'insistent',\n",
       " 'unreasonable',\n",
       " '##igen',\n",
       " '##vna',\n",
       " 'domed',\n",
       " 'hannover',\n",
       " 'margot',\n",
       " 'ponder',\n",
       " '##zziness',\n",
       " 'impromptu',\n",
       " 'jian',\n",
       " 'lc',\n",
       " 'rampage',\n",
       " 'stemming',\n",
       " '##eft',\n",
       " 'andrey',\n",
       " 'gerais',\n",
       " 'whichever',\n",
       " 'amnesia',\n",
       " 'appropriated',\n",
       " 'anzac',\n",
       " 'clicks',\n",
       " 'modifying',\n",
       " 'ultimatum',\n",
       " 'cambrian',\n",
       " 'maids',\n",
       " 'verve',\n",
       " 'yellowstone',\n",
       " '##mbs',\n",
       " 'conservatoire',\n",
       " '##scribe',\n",
       " 'adherence',\n",
       " 'dinners',\n",
       " 'spectra',\n",
       " 'imperfect',\n",
       " 'mysteriously',\n",
       " 'sidekick',\n",
       " 'tatar',\n",
       " 'tuba',\n",
       " '##aks',\n",
       " '##ifolia',\n",
       " 'distrust',\n",
       " '##athan',\n",
       " '##zle',\n",
       " 'c2',\n",
       " 'ronin',\n",
       " 'zac',\n",
       " '##pse',\n",
       " 'celaena',\n",
       " 'instrumentalist',\n",
       " 'scents',\n",
       " 'skopje',\n",
       " '##mbling',\n",
       " 'comical',\n",
       " 'compensated',\n",
       " 'vidal',\n",
       " 'condor',\n",
       " 'intersect',\n",
       " 'jingle',\n",
       " 'wavelengths',\n",
       " '##urrent',\n",
       " 'mcqueen',\n",
       " '##izzly',\n",
       " 'carp',\n",
       " 'weasel',\n",
       " '422',\n",
       " 'kanye',\n",
       " 'militias',\n",
       " 'postdoctoral',\n",
       " 'eugen',\n",
       " 'gunslinger',\n",
       " '##ɛ',\n",
       " 'faux',\n",
       " 'hospice',\n",
       " '##for',\n",
       " 'appalled',\n",
       " 'derivation',\n",
       " 'dwarves',\n",
       " '##elis',\n",
       " 'dilapidated',\n",
       " '##folk',\n",
       " 'astoria',\n",
       " 'philology',\n",
       " '##lwyn',\n",
       " '##otho',\n",
       " '##saka',\n",
       " 'inducing',\n",
       " 'philanthropy',\n",
       " '##bf',\n",
       " '##itative',\n",
       " 'geek',\n",
       " 'markedly',\n",
       " 'sql',\n",
       " '##yce',\n",
       " 'bessie',\n",
       " 'indices',\n",
       " 'rn',\n",
       " '##flict',\n",
       " '495',\n",
       " 'frowns',\n",
       " 'resolving',\n",
       " 'weightlifting',\n",
       " 'tugs',\n",
       " 'cleric',\n",
       " 'contentious',\n",
       " '1653',\n",
       " 'mania',\n",
       " 'rms',\n",
       " '##miya',\n",
       " '##reate',\n",
       " '##ruck',\n",
       " '##tucket',\n",
       " 'bien',\n",
       " 'eels',\n",
       " 'marek',\n",
       " '##ayton',\n",
       " '##cence',\n",
       " 'discreet',\n",
       " 'unofficially',\n",
       " '##ife',\n",
       " 'leaks',\n",
       " '##bber',\n",
       " '1705',\n",
       " '332',\n",
       " 'dung',\n",
       " 'compressor',\n",
       " 'hillsborough',\n",
       " 'pandit',\n",
       " 'shillings',\n",
       " 'distal',\n",
       " '##skin',\n",
       " '381',\n",
       " '##tat',\n",
       " '##you',\n",
       " 'nosed',\n",
       " '##nir',\n",
       " 'mangrove',\n",
       " 'undeveloped',\n",
       " '##idia',\n",
       " 'textures',\n",
       " '##inho',\n",
       " '##500',\n",
       " '##rise',\n",
       " 'ae',\n",
       " 'irritating',\n",
       " 'nay',\n",
       " 'amazingly',\n",
       " 'bancroft',\n",
       " 'apologetic',\n",
       " 'compassionate',\n",
       " 'kata',\n",
       " 'symphonies',\n",
       " '##lovic',\n",
       " 'airspace',\n",
       " '##lch',\n",
       " '930',\n",
       " 'gifford',\n",
       " 'precautions',\n",
       " 'fulfillment',\n",
       " 'sevilla',\n",
       " 'vulgar',\n",
       " 'martinique',\n",
       " '##urities',\n",
       " 'looting',\n",
       " 'piccolo',\n",
       " 'tidy',\n",
       " '##dermott',\n",
       " 'quadrant',\n",
       " 'armchair',\n",
       " 'incomes',\n",
       " 'mathematicians',\n",
       " 'stampede',\n",
       " 'nilsson',\n",
       " '##inking',\n",
       " '##scan',\n",
       " 'foo',\n",
       " 'quarterfinal',\n",
       " '##ostal',\n",
       " 'shang',\n",
       " 'shouldered',\n",
       " 'squirrels',\n",
       " '##owe',\n",
       " '344',\n",
       " 'vinegar',\n",
       " '##bner',\n",
       " '##rchy',\n",
       " '##systems',\n",
       " 'delaying',\n",
       " '##trics',\n",
       " 'ars',\n",
       " 'dwyer',\n",
       " 'rhapsody',\n",
       " 'sponsoring',\n",
       " '##gration',\n",
       " 'bipolar',\n",
       " 'cinder',\n",
       " 'starters',\n",
       " '##olio',\n",
       " '##urst',\n",
       " '421',\n",
       " 'signage',\n",
       " '##nty',\n",
       " 'aground',\n",
       " 'figurative',\n",
       " 'mons',\n",
       " 'acquaintances',\n",
       " 'duets',\n",
       " 'erroneously',\n",
       " 'soyuz',\n",
       " 'elliptic',\n",
       " 'recreated',\n",
       " '##cultural',\n",
       " '##quette',\n",
       " '##ssed',\n",
       " '##tma',\n",
       " '##zcz',\n",
       " 'moderator',\n",
       " 'scares',\n",
       " '##itaire',\n",
       " '##stones',\n",
       " '##udence',\n",
       " 'juniper',\n",
       " 'sighting',\n",
       " '##just',\n",
       " '##nsen',\n",
       " 'britten',\n",
       " 'calabria',\n",
       " 'ry',\n",
       " 'bop',\n",
       " 'cramer',\n",
       " 'forsyth',\n",
       " 'stillness',\n",
       " '##л',\n",
       " 'airmen',\n",
       " 'gathers',\n",
       " 'unfit',\n",
       " '##umber',\n",
       " '##upt',\n",
       " 'taunting',\n",
       " '##rip',\n",
       " 'seeker',\n",
       " 'streamlined',\n",
       " '##bution',\n",
       " 'holster',\n",
       " 'schumann',\n",
       " 'tread',\n",
       " 'vox',\n",
       " '##gano',\n",
       " '##onzo',\n",
       " 'strive',\n",
       " 'dil',\n",
       " 'reforming',\n",
       " 'covent',\n",
       " 'newbury',\n",
       " 'predicting',\n",
       " '##orro',\n",
       " 'decorate',\n",
       " 'tre',\n",
       " '##puted',\n",
       " 'andover',\n",
       " 'ie',\n",
       " 'asahi',\n",
       " 'dept',\n",
       " 'dunkirk',\n",
       " 'gills',\n",
       " '##tori',\n",
       " 'buren',\n",
       " 'huskies',\n",
       " '##stis',\n",
       " '##stov',\n",
       " 'abstracts',\n",
       " 'bets',\n",
       " 'loosen',\n",
       " '##opa',\n",
       " '1682',\n",
       " 'yearning',\n",
       " '##glio',\n",
       " '##sir',\n",
       " 'berman',\n",
       " 'effortlessly',\n",
       " 'enamel',\n",
       " 'napoli',\n",
       " 'persist',\n",
       " '##peration',\n",
       " '##uez',\n",
       " 'attache',\n",
       " 'elisa',\n",
       " 'b1',\n",
       " 'invitations',\n",
       " '##kic',\n",
       " 'accelerating',\n",
       " 'reindeer',\n",
       " 'boardwalk',\n",
       " 'clutches',\n",
       " 'nelly',\n",
       " 'polka',\n",
       " 'starbucks',\n",
       " '##kei',\n",
       " 'adamant',\n",
       " 'huey',\n",
       " 'lough',\n",
       " 'unbroken',\n",
       " 'adventurer',\n",
       " 'embroidery',\n",
       " 'inspecting',\n",
       " 'stanza',\n",
       " '##ducted',\n",
       " 'naia',\n",
       " 'taluka',\n",
       " '##pone',\n",
       " '##roids',\n",
       " 'chases',\n",
       " 'deprivation',\n",
       " 'florian',\n",
       " '##jing',\n",
       " '##ppet',\n",
       " 'earthly',\n",
       " '##lib',\n",
       " '##ssee',\n",
       " 'colossal',\n",
       " 'foreigner',\n",
       " 'vet',\n",
       " 'freaks',\n",
       " 'patrice',\n",
       " 'rosewood',\n",
       " 'triassic',\n",
       " 'upstate',\n",
       " '##pkins',\n",
       " 'dominates',\n",
       " 'ata',\n",
       " 'chants',\n",
       " 'ks',\n",
       " 'vo',\n",
       " '##400',\n",
       " '##bley',\n",
       " '##raya',\n",
       " '##rmed',\n",
       " '555',\n",
       " 'agra',\n",
       " 'infiltrate',\n",
       " '##ailing',\n",
       " '##ilation',\n",
       " '##tzer',\n",
       " '##uppe',\n",
       " '##werk',\n",
       " 'binoculars',\n",
       " 'enthusiast',\n",
       " 'fujian',\n",
       " 'squeak',\n",
       " '##avs',\n",
       " 'abolitionist',\n",
       " 'almeida',\n",
       " 'boredom',\n",
       " 'hampstead',\n",
       " 'marsden',\n",
       " 'rations',\n",
       " '##ands',\n",
       " 'inflated',\n",
       " '334',\n",
       " 'bonuses',\n",
       " 'rosalie',\n",
       " 'patna',\n",
       " '##rco',\n",
       " '329',\n",
       " 'detachments',\n",
       " 'penitentiary',\n",
       " '54th',\n",
       " 'flourishing',\n",
       " 'woolf',\n",
       " '##dion',\n",
       " '##etched',\n",
       " 'papyrus',\n",
       " '##lster',\n",
       " '##nsor',\n",
       " '##toy',\n",
       " 'bobbed',\n",
       " 'dismounted',\n",
       " 'endelle',\n",
       " 'inhuman',\n",
       " 'motorola',\n",
       " 'tbs',\n",
       " 'wince',\n",
       " 'wreath',\n",
       " '##ticus',\n",
       " 'hideout',\n",
       " 'inspections',\n",
       " 'sanjay',\n",
       " 'disgrace',\n",
       " 'infused',\n",
       " 'pudding',\n",
       " 'stalks',\n",
       " '##urbed',\n",
       " 'arsenic',\n",
       " 'leases',\n",
       " '##hyl',\n",
       " '##rrard',\n",
       " 'collarbone',\n",
       " '##waite',\n",
       " '##wil',\n",
       " 'dowry',\n",
       " '##bant',\n",
       " '##edance',\n",
       " 'genealogical',\n",
       " 'nitrate',\n",
       " 'salamanca',\n",
       " 'scandals',\n",
       " 'thyroid',\n",
       " 'necessitated',\n",
       " '##!',\n",
       " '##\"',\n",
       " '###',\n",
       " '##$',\n",
       " '##%',\n",
       " '##&',\n",
       " \"##'\",\n",
       " '##(',\n",
       " '##)',\n",
       " '##*',\n",
       " '##+',\n",
       " '##,',\n",
       " '##-',\n",
       " '##.',\n",
       " '##/',\n",
       " '##:',\n",
       " '##;',\n",
       " '##<',\n",
       " '##=',\n",
       " '##>',\n",
       " '##?',\n",
       " '##@',\n",
       " '##[',\n",
       " '##\\\\',\n",
       " '##]',\n",
       " '##^',\n",
       " '##_',\n",
       " '##`',\n",
       " '##{',\n",
       " '##|',\n",
       " '##}',\n",
       " '##~',\n",
       " '##¡',\n",
       " '##¢',\n",
       " '##£',\n",
       " '##¤',\n",
       " '##¥',\n",
       " '##¦',\n",
       " '##§',\n",
       " '##¨',\n",
       " '##©',\n",
       " '##ª',\n",
       " '##«',\n",
       " '##¬',\n",
       " '##®',\n",
       " '##±',\n",
       " '##´',\n",
       " '##µ',\n",
       " '##¶',\n",
       " '##·',\n",
       " '##º',\n",
       " '##»',\n",
       " '##¼',\n",
       " '##¾',\n",
       " '##¿',\n",
       " '##æ',\n",
       " '##ð',\n",
       " '##÷',\n",
       " '##þ',\n",
       " '##đ',\n",
       " '##ħ',\n",
       " '##ŋ',\n",
       " '##œ',\n",
       " '##ƒ',\n",
       " '##ɐ',\n",
       " '##ɑ',\n",
       " '##ɒ',\n",
       " '##ɔ',\n",
       " '##ɕ',\n",
       " '##ə',\n",
       " '##ɡ',\n",
       " '##ɣ',\n",
       " '##ɨ',\n",
       " '##ɪ',\n",
       " '##ɫ',\n",
       " '##ɬ',\n",
       " '##ɯ',\n",
       " '##ɲ',\n",
       " '##ɴ',\n",
       " '##ɹ',\n",
       " '##ɾ',\n",
       " '##ʀ',\n",
       " '##ʁ',\n",
       " '##ʂ',\n",
       " '##ʃ',\n",
       " '##ʉ',\n",
       " '##ʊ',\n",
       " '##ʋ',\n",
       " '##ʌ',\n",
       " '##ʎ',\n",
       " '##ʐ',\n",
       " '##ʑ',\n",
       " '##ʒ',\n",
       " '##ʔ',\n",
       " '##ʰ',\n",
       " '##ʲ',\n",
       " '##ʳ',\n",
       " '##ʷ',\n",
       " '##ʸ',\n",
       " '##ʻ',\n",
       " '##ʼ',\n",
       " '##ʾ',\n",
       " '##ʿ',\n",
       " '##ˈ',\n",
       " '##ˡ',\n",
       " '##ˢ',\n",
       " '##ˣ',\n",
       " '##ˤ',\n",
       " '##β',\n",
       " '##γ',\n",
       " '##δ',\n",
       " '##ε',\n",
       " '##ζ',\n",
       " '##θ',\n",
       " '##κ',\n",
       " '##λ',\n",
       " '##μ',\n",
       " '##ξ',\n",
       " '##ο',\n",
       " '##π',\n",
       " '##ρ',\n",
       " '##σ',\n",
       " '##τ',\n",
       " '##υ',\n",
       " '##φ',\n",
       " '##χ',\n",
       " '##ψ',\n",
       " '##ω',\n",
       " '##б',\n",
       " '##г',\n",
       " '##д',\n",
       " '##ж',\n",
       " '##з',\n",
       " '##м',\n",
       " '##п',\n",
       " '##с',\n",
       " '##у',\n",
       " '##ф',\n",
       " '##х',\n",
       " '##ц',\n",
       " '##ч',\n",
       " '##ш',\n",
       " '##щ',\n",
       " '##ъ',\n",
       " '##э',\n",
       " '##ю',\n",
       " '##ђ',\n",
       " '##є',\n",
       " '##і',\n",
       " '##ј',\n",
       " '##љ',\n",
       " '##њ',\n",
       " '##ћ',\n",
       " '##ӏ',\n",
       " '##ա',\n",
       " '##բ',\n",
       " '##գ',\n",
       " '##դ',\n",
       " '##ե',\n",
       " '##թ',\n",
       " '##ի',\n",
       " '##լ',\n",
       " '##կ',\n",
       " '##հ',\n",
       " '##մ',\n",
       " '##յ',\n",
       " '##ն',\n",
       " '##ո',\n",
       " '##պ',\n",
       " '##ս',\n",
       " '##վ',\n",
       " '##տ',\n",
       " '##ր',\n",
       " '##ւ',\n",
       " '##ք',\n",
       " '##־',\n",
       " '##א',\n",
       " '##ב',\n",
       " '##ג',\n",
       " '##ד',\n",
       " '##ו',\n",
       " '##ז',\n",
       " '##ח',\n",
       " '##ט',\n",
       " '##י',\n",
       " '##ך',\n",
       " '##כ',\n",
       " '##ל',\n",
       " '##ם',\n",
       " '##מ',\n",
       " '##ן',\n",
       " '##נ',\n",
       " '##ס',\n",
       " '##ע',\n",
       " '##ף',\n",
       " '##פ',\n",
       " '##ץ',\n",
       " '##צ',\n",
       " '##ק',\n",
       " '##ר',\n",
       " '##ש',\n",
       " '##ת',\n",
       " '##،',\n",
       " '##ء',\n",
       " '##ب',\n",
       " '##ت',\n",
       " '##ث',\n",
       " '##ج',\n",
       " '##ح',\n",
       " '##خ',\n",
       " '##ذ',\n",
       " '##ز',\n",
       " '##س',\n",
       " '##ش',\n",
       " '##ص',\n",
       " '##ض',\n",
       " '##ط',\n",
       " '##ظ',\n",
       " '##ع',\n",
       " '##غ',\n",
       " '##ـ',\n",
       " '##ف',\n",
       " '##ق',\n",
       " '##ك',\n",
       " '##و',\n",
       " '##ى',\n",
       " '##ٹ',\n",
       " '##پ',\n",
       " '##چ',\n",
       " '##ک',\n",
       " '##گ',\n",
       " '##ں',\n",
       " '##ھ',\n",
       " '##ہ',\n",
       " '##ے',\n",
       " '##अ',\n",
       " '##आ',\n",
       " '##उ',\n",
       " '##ए',\n",
       " '##क',\n",
       " '##ख',\n",
       " '##ग',\n",
       " '##च',\n",
       " '##ज',\n",
       " '##ट',\n",
       " '##ड',\n",
       " '##ण',\n",
       " '##त',\n",
       " '##थ',\n",
       " '##द',\n",
       " '##ध',\n",
       " '##न',\n",
       " '##प',\n",
       " '##ब',\n",
       " '##भ',\n",
       " '##म',\n",
       " '##य',\n",
       " '##र',\n",
       " '##ल',\n",
       " '##व',\n",
       " '##श',\n",
       " '##ष',\n",
       " '##स',\n",
       " '##ह',\n",
       " '##ा',\n",
       " '##ि',\n",
       " '##ी',\n",
       " '##ो',\n",
       " '##।',\n",
       " '##॥',\n",
       " '##ং',\n",
       " '##অ',\n",
       " '##আ',\n",
       " '##ই',\n",
       " '##উ',\n",
       " '##এ',\n",
       " '##ও',\n",
       " '##ক',\n",
       " '##খ',\n",
       " '##গ',\n",
       " '##চ',\n",
       " '##ছ',\n",
       " '##জ',\n",
       " '##ট',\n",
       " '##ড',\n",
       " '##ণ',\n",
       " '##ত',\n",
       " '##থ',\n",
       " '##দ',\n",
       " '##ধ',\n",
       " '##ন',\n",
       " '##প',\n",
       " '##ব',\n",
       " '##ভ',\n",
       " '##ম',\n",
       " '##য',\n",
       " '##র',\n",
       " '##ল',\n",
       " '##শ',\n",
       " '##ষ',\n",
       " '##স',\n",
       " '##হ',\n",
       " '##া',\n",
       " '##ি',\n",
       " '##ী',\n",
       " '##ে',\n",
       " '##க',\n",
       " '##ச',\n",
       " '##ட',\n",
       " '##த',\n",
       " '##ந',\n",
       " '##ன',\n",
       " '##ப',\n",
       " '##ம',\n",
       " '##ய',\n",
       " '##ர',\n",
       " '##ல',\n",
       " '##ள',\n",
       " '##வ',\n",
       " '##ா',\n",
       " '##ி',\n",
       " '##ு',\n",
       " '##ே',\n",
       " '##ை',\n",
       " '##ನ',\n",
       " '##ರ',\n",
       " '##ಾ',\n",
       " '##ක',\n",
       " '##ය',\n",
       " '##ර',\n",
       " '##ල',\n",
       " '##ව',\n",
       " '##ා',\n",
       " '##ก',\n",
       " '##ง',\n",
       " '##ต',\n",
       " '##ท',\n",
       " '##น',\n",
       " '##พ',\n",
       " '##ม',\n",
       " '##ย',\n",
       " '##ร',\n",
       " '##ล',\n",
       " '##ว',\n",
       " '##ส',\n",
       " '##อ',\n",
       " '##า',\n",
       " '##เ',\n",
       " '##་',\n",
       " '##།',\n",
       " '##ག',\n",
       " '##ང',\n",
       " '##ད',\n",
       " '##ན',\n",
       " '##པ',\n",
       " '##བ',\n",
       " '##མ',\n",
       " '##འ',\n",
       " '##ར',\n",
       " '##ལ',\n",
       " '##ས',\n",
       " '##မ',\n",
       " '##ა',\n",
       " '##ბ',\n",
       " '##გ',\n",
       " '##დ',\n",
       " '##ე',\n",
       " '##ვ',\n",
       " '##თ',\n",
       " '##ი',\n",
       " '##კ',\n",
       " '##ლ',\n",
       " '##მ',\n",
       " '##ნ',\n",
       " '##ო',\n",
       " '##რ',\n",
       " '##ს',\n",
       " '##ტ',\n",
       " '##უ',\n",
       " '##ᄀ',\n",
       " '##ᄂ',\n",
       " '##ᄃ',\n",
       " '##ᄅ',\n",
       " '##ᄆ',\n",
       " '##ᄇ',\n",
       " '##ᄉ',\n",
       " '##ᄊ',\n",
       " '##ᄋ',\n",
       " ...]"
      ]
     },
     "execution_count": 27,
     "metadata": {},
     "output_type": "execute_result"
    }
   ],
   "source": [
    "list(tokenizer.vocab.keys())[29000:-100]"
   ]
  },
  {
   "cell_type": "markdown",
   "id": "48970bb7-0dba-447b-9929-ed9d44a6e5fd",
   "metadata": {},
   "source": [
    "# Checking for single character tokens in vocabulary"
   ]
  },
  {
   "cell_type": "code",
   "execution_count": 28,
   "id": "f60cbcac-8047-4351-bfad-ff0f6280699e",
   "metadata": {},
   "outputs": [],
   "source": [
    "one_chars = [] \n",
    "one_chars_hashes = []\n",
    "\n",
    "for token in tokenizer.vocab.keys():\n",
    "    \n",
    "    if len(token) == 1:\n",
    "        one_chars.append(token)\n",
    "        \n",
    "    elif len(token) == 3 and token[0:2] == '##':\n",
    "        one_chars_hashes.append(token)"
   ]
  },
  {
   "cell_type": "code",
   "execution_count": 29,
   "id": "da062e6c-d78f-4055-ba13-3a1831a2f788",
   "metadata": {},
   "outputs": [
    {
     "data": {
      "text/plain": [
       "(997, 997)"
      ]
     },
     "execution_count": 29,
     "metadata": {},
     "output_type": "execute_result"
    }
   ],
   "source": [
    "len(one_chars), len(one_chars_hashes)"
   ]
  },
  {
   "cell_type": "code",
   "execution_count": 30,
   "id": "f96a0812-6717-48bb-8929-bd6bb7969ccd",
   "metadata": {},
   "outputs": [
    {
     "data": {
      "text/plain": [
       "(['!', '\"', '#', '$', '%', '&', \"'\", '(', ')', '*'],\n",
       " ['##!', '##\"', '###', '##$', '##%', '##&', \"##'\", '##(', '##)', '##*'])"
      ]
     },
     "execution_count": 30,
     "metadata": {},
     "output_type": "execute_result"
    }
   ],
   "source": [
    "sorted(one_chars)[:10], sorted(one_chars_hashes)[:10]"
   ]
  },
  {
   "cell_type": "markdown",
   "id": "e5267074-e1fd-4280-aeef-f38b6d923b17",
   "metadata": {},
   "source": [
    "### Inference: For every single character, there exists a subword starting with ##"
   ]
  },
  {
   "cell_type": "code",
   "execution_count": 32,
   "id": "7b7ee720-2be2-4ce5-9a00-3ca2661131ed",
   "metadata": {},
   "outputs": [
    {
     "name": "stdout",
     "output_type": "stream",
     "text": [
      "!\"#$%&'()*+,-./0123456789:;<=>?@[\\]^_`abcdefghijklmnopqrstuvwxyz{|}~¡¢£¤¥¦§¨©ª«¬\n",
      "®°±²³´µ¶·¹º»¼½¾¿×ßæð÷øþđħıłŋœƒɐɑɒɔɕəɛɡɣɨɪɫɬɯɲɴɹɾʀʁʂʃʉʊʋʌʎʐʑʒʔʰʲʳʷʸʻʼʾʿˈːˡˢˣˤαβγδ\n",
      "εζηθικλμνξοπρςστυφχψωабвгдежзиклмнопрстуфхцчшщъыьэюяђєіјљњћӏաբգդեթիլկհմյնոպսվտրւ\n",
      "ք־אבגדהוזחטיךכלםמןנסעףפץצקרשת،ءابةتثجحخدذرزسشصضطظعغـفقكلمنهوىيٹپچکگںھہیےअआउएकखगच\n",
      "जटडणतथदधनपबभमयरलवशषसहािीो।॥ংঅআইউএওকখগচছজটডণতথদধনপবভমযরলশষসহািীেகசடதநனபமயரலளவாிுே\n",
      "ைನರಾකයරලවාกงตทนพมยรลวสอาเ་།གངདནཔབམའརལསမაბგდევთიკლმნორსტუᄀᄂᄃᄅᄆᄇᄉᄊᄋᄌᄎᄏᄐᄑ하ᅢᅥᅦᅧᅩᅪᅭᅮ\n",
      "ᅯᅲᅳᅴᅵᆨᆫᆯᆷᆸᆼᴬᴮᴰᴵᴺᵀᵃᵇᵈᵉᵍᵏᵐᵒᵖᵗᵘᵢᵣᵤᵥᶜᶠ‐‑‒–—―‖‘’‚“”„†‡•…‰′″›‿⁄⁰ⁱ⁴⁵⁶⁷⁸⁹⁺⁻ⁿ₀₁₂₃₄₅₆₇₈₉₊₍\n",
      "₎ₐₑₒₓₕₖₗₘₙₚₛₜ₤₩€₱₹ℓ№ℝ™⅓⅔←↑→↓↔↦⇄⇌⇒∂∅∆∇∈−∗∘√∞∧∨∩∪≈≡≤≥⊂⊆⊕⊗⋅─│■▪●★☆☉♠♣♥♦♭♯⟨⟩ⱼ⺩⺼⽥、。〈〉\n",
      "《》「」『』〜あいうえおかきくけこさしすせそたちっつてとなにぬねのはひふへほまみむめもやゆよらりるれろをんァアィイウェエオカキクケコサシスセタチッツテトナニノハ\n",
      "ヒフヘホマミムメモャュョラリルレロワン・ー一三上下不世中主久之也事二五井京人亻仁介代仮伊会佐侍保信健元光八公内出分前劉力加勝北区十千南博原口古史司合吉同名和囗四\n",
      "国國土地坂城堂場士夏外大天太夫奈女子学宀宇安宗定宣宮家宿寺將小尚山岡島崎川州巿帝平年幸广弘張彳後御德心忄志忠愛成我戦戸手扌政文新方日明星春昭智曲書月有朝木本李村\n",
      "東松林森楊樹橋歌止正武比氏民水氵氷永江沢河治法海清漢瀬火版犬王生田男疒発白的皇目相省真石示社神福禾秀秋空立章竹糹美義耳良艹花英華葉藤行街西見訁語谷貝貴車軍辶道郎\n",
      "郡部都里野金鈴镇長門間阝阿陳陽雄青面風食香馬高龍龸ﬁﬂ！（），－．／：？～\n"
     ]
    }
   ],
   "source": [
    "# print all single characters\n",
    "\n",
    "for i in range(0, len(one_chars), 80):\n",
    "    end = min(i+80, len(one_chars)+1)\n",
    "    print(''.join(one_chars[i:end]))"
   ]
  },
  {
   "cell_type": "code",
   "execution_count": 34,
   "id": "15f69e81",
   "metadata": {},
   "outputs": [
    {
     "data": {
      "text/plain": [
       "998"
      ]
     },
     "execution_count": 34,
     "metadata": {},
     "output_type": "execute_result"
    }
   ],
   "source": [
    "len(tokens)+1"
   ]
  },
  {
   "cell_type": "code",
   "execution_count": 41,
   "id": "ae6762d3-dc97-4473-93de-45def76d2870",
   "metadata": {},
   "outputs": [
    {
     "name": "stdout",
     "output_type": "stream",
     "text": [
      "0\n",
      "saeinodrytlmuhkcgp2z1b3f467xv8590wjq°₂аи²₃ı₁⁺½оهيαеدنνøр₄₀رя³ιłнᵢₙßةςم−тːلьк♭ηیв\n",
      "80\n",
      "ا×¹ыהɛл!\"#$%&'()*+,-./:;<=>?@[\\]^_`{|}~¡¢£¤¥¦§¨©ª«¬®±´µ¶·º»¼¾¿æð÷þđħŋœƒɐɑɒɔɕəɡɣɨ\n",
      "160\n",
      "ɪɫɬɯɲɴɹɾʀʁʂʃʉʊʋʌʎʐʑʒʔʰʲʳʷʸʻʼʾʿˈˡˢˣˤβγδεζθκλμξοπρστυφχψωбгджзмпсуфхцчшщъэюђєіјљњћ\n",
      "240\n",
      "ӏաբգդեթիլկհմյնոպսվտրւք־אבגדוזחטיךכלםמןנסעףפץצקרשת،ءبتثجحخذزسشصضطظعغـفقكوىٹپچکگںھ\n",
      "320\n",
      "ہےअआउएकखगचजटडणतथदधनपबभमयरलवशषसहािीो।॥ংঅআইউএওকখগচছজটডণতথদধনপবভমযরলশষসহািীেகசடதநனப\n",
      "400\n",
      "மயரலளவாிுேைನರಾකයරලවාกงตทนพมยรลวสอาเ་།གངདནཔབམའརལསမაბგდევთიკლმნორსტუᄀᄂᄃᄅᄆᄇᄉᄊᄋᄌᄎᄏᄐᄑ\n",
      "480\n",
      "하ᅢᅥᅦᅧᅩᅪᅭᅮᅯᅲᅳᅴᅵᆨᆫᆯᆷᆸᆼᴬᴮᴰᴵᴺᵀᵃᵇᵈᵉᵍᵏᵐᵒᵖᵗᵘᵣᵤᵥᶜᶠ‐‑‒–—―‖‘’‚“”„†‡•…‰′″›‿⁄⁰ⁱ⁴⁵⁶⁷⁸⁹⁻ⁿ₅₆₇₈\n",
      "560\n",
      "₉₊₍₎ₐₑₒₓₕₖₗₘₚₛₜ₤₩€₱₹ℓ№ℝ™⅓⅔←↑→↓↔↦⇄⇌⇒∂∅∆∇∈∗∘√∞∧∨∩∪≈≡≤≥⊂⊆⊕⊗⋅─│■▪●★☆☉♠♣♥♦♯⟨⟩ⱼ⺩⺼⽥、。〈〉\n",
      "640\n",
      "《》「」『』〜あいうえおかきくけこさしすせそたちっつてとなにぬねのはひふへほまみむめもやゆよらりるれろをんァアィイウェエオカキクケコサシスセタチッツテトナニノハ\n",
      "720\n",
      "ヒフヘホマミムメモャュョラリルレロワン・ー一三上下不世中主久之也事二五井京人亻仁介代仮伊会佐侍保信健元光八公内出分前劉力加勝北区十千南博原口古史司合吉同名和囗四\n",
      "800\n",
      "国國土地坂城堂場士夏外大天太夫奈女子学宀宇安宗定宣宮家宿寺將小尚山岡島崎川州巿帝平年幸广弘張彳後御德心忄志忠愛成我戦戸手扌政文新方日明星春昭智曲書月有朝木本李村\n",
      "880\n",
      "東松林森楊樹橋歌止正武比氏民水氵氷永江沢河治法海清漢瀬火版犬王生田男疒発白的皇目相省真石示社神福禾秀秋空立章竹糹美義耳良艹花英華葉藤行街西見訁語谷貝貴車軍辶道郎\n",
      "960\n",
      "郡部都里野金鈴镇長門間阝阿陳陽雄青面風食香馬高龍龸ﬁﬂ！（），－．／：？～\n"
     ]
    }
   ],
   "source": [
    "# print all single characters with hashes\n",
    "\n",
    "tokens = [token.replace(\"##\",'') for token in one_chars_hashes]\n",
    "\n",
    "for i in range(0, len(tokens), 80):\n",
    "    print(i)\n",
    "    end = min(i+80, len(tokens)+1)\n",
    "    print(''.join(tokens[i:end]))\n",
    "\n",
    "# This also seems to be sorted by frequency since 's' is the most common subword"
   ]
  },
  {
   "cell_type": "code",
   "execution_count": 39,
   "id": "ef2f8d27-ca35-4cb3-8035-f5e1dd1a8499",
   "metadata": {},
   "outputs": [
    {
     "data": {
      "text/plain": [
       "True"
      ]
     },
     "execution_count": 39,
     "metadata": {},
     "output_type": "execute_result"
    }
   ],
   "source": [
    "set(one_chars) == set(tokens)"
   ]
  },
  {
   "cell_type": "markdown",
   "id": "9fd4ef5d-bd2f-4ec0-a8d3-f5c05e6dfd5e",
   "metadata": {},
   "source": [
    "# Subwords and whole words"
   ]
  },
  {
   "cell_type": "code",
   "execution_count": 42,
   "id": "3d2d5fc0-b3a9-4d26-af97-01201c2fb02a",
   "metadata": {},
   "outputs": [],
   "source": [
    "import matplotlib.pyplot as plt\n",
    "import seaborn as sns\n",
    "import numpy as np"
   ]
  },
  {
   "cell_type": "code",
   "execution_count": 44,
   "id": "bbcac986-c043-4244-8b7c-e453e5fb9875",
   "metadata": {},
   "outputs": [
    {
     "data": {
      "text/plain": [
       "30522"
      ]
     },
     "execution_count": 44,
     "metadata": {},
     "output_type": "execute_result"
    }
   ],
   "source": [
    "token_lengths = [len(token) for token in tokenizer.vocab.keys()]\n",
    "len(token_lengths)"
   ]
  },
  {
   "cell_type": "code",
   "execution_count": 56,
   "id": "2abbd088-1940-4432-b853-ab587d7cb211",
   "metadata": {},
   "outputs": [
    {
     "name": "stdout",
     "output_type": "stream",
     "text": [
      "Maximum token length: 18\n"
     ]
    },
    {
     "data": {
      "image/png": "[encoded data removed]",
      "text/plain": [
       "<Figure size 1000x600 with 1 Axes>"
      ]
     },
     "metadata": {},
     "output_type": "display_data"
    }
   ],
   "source": [
    "sns.set_theme(style='darkgrid')\n",
    "\n",
    "plt.figure(figsize=(10, 6))  # Optional: Set the size of the plot\n",
    "sns.countplot(x=token_lengths, palette=\"viridis\", hue = token_lengths)\n",
    "plt.title(\"Vocab token lengths distribution\")\n",
    "plt.xlabel(\"Token Length\")\n",
    "plt.ylabel(\"# of tokens(Frequency)\")\n",
    "\n",
    "print('Maximum token length:', max(token_lengths))"
   ]
  },
  {
   "cell_type": "code",
   "execution_count": 61,
   "id": "c57f02e3-0dc5-426b-8dfc-cb1ffada8836",
   "metadata": {},
   "outputs": [
    {
     "data": {
      "text/plain": [
       "0.1909442369438438"
      ]
     },
     "execution_count": 61,
     "metadata": {},
     "output_type": "execute_result"
    }
   ],
   "source": [
    "hash_token_lengths = [len(token)-2 for token in tokenizer.vocab.keys() if token.startswith('##')]\n",
    "len(hash_token_lengths)/len(tokenizer.vocab.keys())"
   ]
  },
  {
   "cell_type": "code",
   "execution_count": 59,
   "id": "6fc885c7-2610-448a-a75d-bee5ad32137d",
   "metadata": {},
   "outputs": [
    {
     "data": {
      "text/plain": [
       "<Axes: ylabel='count'>"
      ]
     },
     "execution_count": 59,
     "metadata": {},
     "output_type": "execute_result"
    },
    {
     "data": {
      "image/png": "[encoded data removed]",
      "text/plain": [
       "<Figure size 1000x600 with 1 Axes>"
      ]
     },
     "metadata": {},
     "output_type": "display_data"
    }
   ],
   "source": [
    "plt.figure(figsize=(10, 6))  # Optional: Set the size of the plot\n",
    "sns.countplot(x=hash_token_lengths, palette=\"viridis\", hue = hash_token_lengths)"
   ]
  },
  {
   "cell_type": "markdown",
   "id": "e972779d-2d1a-4b77-aad9-905c9f3c7cd3",
   "metadata": {},
   "source": [
    "# Contractions present in vocab?"
   ]
  },
  {
   "cell_type": "code",
   "execution_count": 62,
   "id": "daa313c7-4f3c-4381-b5c4-4e94db37accf",
   "metadata": {},
   "outputs": [
    {
     "data": {
      "text/plain": [
       "False"
      ]
     },
     "execution_count": 62,
     "metadata": {},
     "output_type": "execute_result"
    }
   ],
   "source": [
    "\"can't\" in tokenizer.vocab"
   ]
  },
  {
   "cell_type": "code",
   "execution_count": 63,
   "id": "4ef91ace-c4e7-4546-abcc-efc3e228bcfc",
   "metadata": {},
   "outputs": [
    {
     "data": {
      "text/plain": [
       "False"
      ]
     },
     "execution_count": 63,
     "metadata": {},
     "output_type": "execute_result"
    }
   ],
   "source": [
    "\"cant\" in tokenizer.vocab"
   ]
  },
  {
   "cell_type": "code",
   "execution_count": 64,
   "id": "ec677a22-d5df-428b-ad05-c938397b7225",
   "metadata": {},
   "outputs": [
    {
     "data": {
      "text/plain": [
       "True"
      ]
     },
     "execution_count": 64,
     "metadata": {},
     "output_type": "execute_result"
    }
   ],
   "source": [
    "\"cannot\" in tokenizer.vocab"
   ]
  },
  {
   "cell_type": "code",
   "execution_count": 67,
   "id": "f518b9c5",
   "metadata": {},
   "outputs": [],
   "source": [
    "# So BERT doesn't include words which have symbol in them"
   ]
  },
  {
   "cell_type": "code",
   "execution_count": 65,
   "id": "106b5023-80ff-441c-a7f3-2dff5b33017b",
   "metadata": {},
   "outputs": [],
   "source": [
    "# Check if for every subword (which starts with ##), is there a subword without ## as well"
   ]
  },
  {
   "cell_type": "code",
   "execution_count": 68,
   "id": "72a15a6a-d8bb-4b05-94fd-103cd81f1cc3",
   "metadata": {},
   "outputs": [
    {
     "name": "stdout",
     "output_type": "stream",
     "text": [
      "Did not find a token for ly\n"
     ]
    }
   ],
   "source": [
    "# For each token in the vocabulary...\n",
    "for token in tokenizer.vocab.keys():\n",
    "    \n",
    "    # If it's a subword...\n",
    "    if len(token) >= 2 and token[0:2] == '##':\n",
    "        if not token[2:] in tokenizer.vocab:\n",
    "            print('Did not find a token for', token[2:])\n",
    "            break"
   ]
  },
  {
   "cell_type": "code",
   "execution_count": 69,
   "id": "3fe3e104-d96d-483e-949a-6dcd5f7474e2",
   "metadata": {},
   "outputs": [
    {
     "data": {
      "text/plain": [
       "True"
      ]
     },
     "execution_count": 69,
     "metadata": {},
     "output_type": "execute_result"
    }
   ],
   "source": [
    "'##ly' in tokenizer.vocab.keys()"
   ]
  },
  {
   "cell_type": "code",
   "execution_count": 70,
   "id": "4dd27580",
   "metadata": {},
   "outputs": [
    {
     "data": {
      "text/plain": [
       "False"
      ]
     },
     "execution_count": 70,
     "metadata": {},
     "output_type": "execute_result"
    }
   ],
   "source": [
    "'ly' in tokenizer.vocab.keys()"
   ]
  },
  {
   "cell_type": "markdown",
   "id": "1a577b5b",
   "metadata": {},
   "source": [
    "# Check if names are present in vocab"
   ]
  },
  {
   "cell_type": "code",
   "execution_count": 72,
   "id": "25d1ee49",
   "metadata": {},
   "outputs": [
    {
     "name": "stdout",
     "output_type": "stream",
     "text": [
      "Beginning file download with wget module\n"
     ]
    },
    {
     "data": {
      "text/plain": [
       "'first-names.txt'"
      ]
     },
     "execution_count": 72,
     "metadata": {},
     "output_type": "execute_result"
    }
   ],
   "source": [
    "import wget\n",
    "import random \n",
    "\n",
    "print('Beginning file download with wget module')\n",
    "\n",
    "url = 'http://www.gutenberg.org/files/3201/files/NAMES.TXT'\n",
    "wget.download(url, 'first-names.txt')\n"
   ]
  },
  {
   "cell_type": "code",
   "execution_count": 74,
   "id": "2cdbad52",
   "metadata": {},
   "outputs": [],
   "source": [
    "with open('first-names.txt', 'rb') as f:\n",
    "    names_encoded = f.readlines()"
   ]
  },
  {
   "cell_type": "code",
   "execution_count": 76,
   "id": "4e746dbf",
   "metadata": {},
   "outputs": [
    {
     "name": "stdout",
     "output_type": "stream",
     "text": [
      "21986\n",
      "21985\n"
     ]
    },
    {
     "data": {
      "text/plain": [
       "(None, None)"
      ]
     },
     "execution_count": 76,
     "metadata": {},
     "output_type": "execute_result"
    }
   ],
   "source": [
    "names = []\n",
    "\n",
    "for name in names_encoded:\n",
    "    try:\n",
    "        names.append(name.rstrip().lower().decode('utf-8'))\n",
    "    except:\n",
    "        continue\n",
    "\n",
    "print(len(names_encoded)), print(len(names))"
   ]
  },
  {
   "cell_type": "code",
   "execution_count": 77,
   "id": "cf01b880",
   "metadata": {},
   "outputs": [
    {
     "name": "stdout",
     "output_type": "stream",
     "text": [
      "3,869 names in the vocabulary\n"
     ]
    }
   ],
   "source": [
    "num_names = 0\n",
    "\n",
    "# For each name in our list...\n",
    "for name in names:\n",
    "\n",
    "    # If it's in the vocab...\n",
    "    if name in tokenizer.vocab:\n",
    "        # Tally it.\n",
    "        num_names += 1\n",
    "\n",
    "print('{:,} names in the vocabulary'.format(num_names))"
   ]
  },
  {
   "cell_type": "code",
   "execution_count": 78,
   "id": "2f5e1842",
   "metadata": {},
   "outputs": [
    {
     "data": {
      "text/plain": [
       "0.12676102483454557"
      ]
     },
     "execution_count": 78,
     "metadata": {},
     "output_type": "execute_result"
    }
   ],
   "source": [
    "num_names/len(tokenizer.vocab.keys())"
   ]
  },
  {
   "cell_type": "code",
   "execution_count": 79,
   "id": "a23713d9",
   "metadata": {},
   "outputs": [],
   "source": [
    "# So good amount of names present, around 12.7% of total vocab is names"
   ]
  },
  {
   "cell_type": "markdown",
   "id": "ffcd412c",
   "metadata": {},
   "source": [
    "# Check if numbers are present in vocab"
   ]
  },
  {
   "cell_type": "code",
   "execution_count": 82,
   "id": "f06b5689",
   "metadata": {},
   "outputs": [
    {
     "name": "stdout",
     "output_type": "stream",
     "text": [
      "881\n"
     ]
    }
   ],
   "source": [
    "cnt = 0\n",
    "for token in tokenizer.vocab.keys():\n",
    "    \n",
    "    if token.isdigit():\n",
    "        cnt +=1\n",
    "\n",
    "        if(len(token) > 4):\n",
    "            print(token)\n",
    "\n",
    "print(cnt)"
   ]
  },
  {
   "cell_type": "code",
   "execution_count": 83,
   "id": "19e2eb52",
   "metadata": {},
   "outputs": [
    {
     "name": "stdout",
     "output_type": "stream",
     "text": [
      "Vocab includes 384 of 421 dates from 1600 - 2021\n"
     ]
    }
   ],
   "source": [
    "# Count how many dates between 1600 and 2021 are included.\n",
    "count = 0 \n",
    "for i in range(1600, 2021):\n",
    "    if str(i) in tokenizer.vocab:\n",
    "        count += 1\n",
    "\n",
    "print('Vocab includes {:,} of 421 dates from 1600 - 2021'.format(count))"
   ]
  },
  {
   "cell_type": "code",
   "execution_count": null,
   "id": "4458ad1f",
   "metadata": {},
   "outputs": [],
   "source": []
  }
 ],
 "metadata": {
  "kernelspec": {
   "display_name": "office",
   "language": "python",
   "name": "python3"
  },
  "language_info": {
   "codemirror_mode": {
    "name": "ipython",
    "version": 3
   },
   "file_extension": ".py",
   "mimetype": "text/x-python",
   "name": "python",
   "nbconvert_exporter": "python",
   "pygments_lexer": "ipython3",
   "version": "3.11.5"
  }
 },
 "nbformat": 4,
 "nbformat_minor": 5
}
